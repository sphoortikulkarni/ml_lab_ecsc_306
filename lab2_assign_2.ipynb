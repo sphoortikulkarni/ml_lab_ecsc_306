{
 "cells": [
  {
   "cell_type": "code",
   "execution_count": 5,
   "metadata": {
    "collapsed": true,
    "slideshow": {
     "slide_type": "slide"
    }
   },
   "outputs": [],
   "source": [
    "#Sample Data : \n",
    "dataset = [[2.7810836,2.550537003,0],\n",
    "\t[1.465489372,2.362125076,0],\n",
    "\t[3.396561688,4.400293529,0],\n",
    "\t[1.38807019,1.850220317,0],\n",
    "\t[3.06407232,3.005305973,0],\n",
    "\t[7.627531214,2.759262235,1],\n",
    "\t[5.332441248,2.088626775,1],\n",
    "\t[6.922596716,1.77106367,1],\n",
    "\t[8.675418651,-0.242068655,1],\n",
    "\t[7.673756466,3.508563011,1]]"
   ]
  },
  {
   "cell_type": "markdown",
   "metadata": {
    "slideshow": {
     "slide_type": "slide"
    }
   },
   "source": [
    "Write a program using tensorflow to build a batch gradient descent model for logistic regression.\n"
   ]
  },
  {
   "cell_type": "code",
   "execution_count": 6,
   "metadata": {
    "slideshow": {
     "slide_type": "skip"
    }
   },
   "outputs": [
    {
     "name": "stdout",
     "output_type": "stream",
     "text": [
      "Epoch: 0050 cost= 0.251550317 W= 1.55782 b= 2.26759\n",
      "Epoch: 0100 cost= 0.115987092 W= 1.37878 b= 2.82363\n",
      "Optimization Finished!\n",
      "Training cost= 0.115987 W= 1.37878 b= 2.82363 \n",
      "\n",
      "Epoch: 0050 cost= 0.053480696 W= 1.25721 b= 3.2012\n",
      "Epoch: 0100 cost= 0.024659365 W= 1.17465 b= 3.45759\n",
      "Epoch: 0150 cost= 0.011370277 W= 1.1186 b= 3.63168\n",
      "Epoch: 0200 cost= 0.005242747 W= 1.08053 b= 3.7499\n",
      "Optimization Finished!\n",
      "Training cost= 0.00524275 W= 1.08053 b= 3.7499 \n",
      "\n",
      "Epoch: 0050 cost= 0.002417379 W= 1.05468 b= 3.83017\n",
      "Epoch: 0100 cost= 0.001114616 W= 1.03713 b= 3.88468\n",
      "Epoch: 0150 cost= 0.000513953 W= 1.02521 b= 3.92169\n",
      "Epoch: 0200 cost= 0.000236960 W= 1.01712 b= 3.94683\n",
      "Epoch: 0250 cost= 0.000109262 W= 1.01163 b= 3.96389\n",
      "Epoch: 0300 cost= 0.000050385 W= 1.00789 b= 3.97548\n",
      "Optimization Finished!\n",
      "Training cost= 5.03846e-05 W= 1.00789 b= 3.97548 \n",
      "\n",
      "Epoch: 0050 cost= 0.000023231 W= 1.00536 b= 3.98335\n",
      "Epoch: 0100 cost= 0.000010712 W= 1.00364 b= 3.9887\n",
      "Epoch: 0150 cost= 0.000004938 W= 1.00247 b= 3.99232\n",
      "Epoch: 0200 cost= 0.000002277 W= 1.00168 b= 3.99479\n",
      "Epoch: 0250 cost= 0.000001050 W= 1.00114 b= 3.99646\n",
      "Epoch: 0300 cost= 0.000000484 W= 1.00077 b= 3.9976\n",
      "Epoch: 0350 cost= 0.000000223 W= 1.00053 b= 3.99837\n",
      "Epoch: 0400 cost= 0.000000103 W= 1.00036 b= 3.99889\n",
      "Optimization Finished!\n",
      "Training cost= 1.02943e-07 W= 1.00036 b= 3.99889 \n",
      "\n"
     ]
    },
    {
     "data": {
      "image/png": "[encoded data removed]",
      "text/plain": [
       "<matplotlib.figure.Figure at 0x7fb3405698d0>"
      ]
     },
     "metadata": {},
     "output_type": "display_data"
    },
    {
     "name": "stdout",
     "output_type": "stream",
     "text": [
      "Epoch: 0050 cost= 0.000000094 W= 1.00036 b= 3.99894\n",
      "Epoch: 0100 cost= 0.000000086 W= 1.00034 b= 3.99899\n",
      "Optimization Finished!\n",
      "Training cost= 8.56549e-08 W= 1.00034 b= 3.99899 \n",
      "\n",
      "Epoch: 0050 cost= 0.000000080 W= 1.00033 b= 3.99902\n",
      "Epoch: 0100 cost= 0.000000074 W= 1.00032 b= 3.99906\n",
      "Epoch: 0150 cost= 0.000000068 W= 1.00031 b= 3.99909\n",
      "Epoch: 0200 cost= 0.000000064 W= 1.0003 b= 3.99913\n",
      "Optimization Finished!\n",
      "Training cost= 6.3811e-08 W= 1.0003 b= 3.99913 \n",
      "\n",
      "Epoch: 0050 cost= 0.000000060 W= 1.00029 b= 3.99915\n",
      "Epoch: 0100 cost= 0.000000057 W= 1.00028 b= 3.99917\n",
      "Epoch: 0150 cost= 0.000000054 W= 1.00027 b= 3.9992\n",
      "Epoch: 0200 cost= 0.000000050 W= 1.00026 b= 3.99923\n",
      "Epoch: 0250 cost= 0.000000045 W= 1.00025 b= 3.99926\n",
      "Epoch: 0300 cost= 0.000000042 W= 1.00024 b= 3.99929\n",
      "Optimization Finished!\n",
      "Training cost= 4.17857e-08 W= 1.00024 b= 3.99929 \n",
      "\n",
      "Epoch: 0050 cost= 0.000000039 W= 1.00023 b= 3.99932\n",
      "Epoch: 0100 cost= 0.000000036 W= 1.00022 b= 3.99934\n",
      "Epoch: 0150 cost= 0.000000034 W= 1.00021 b= 3.99936\n",
      "Epoch: 0200 cost= 0.000000031 W= 1.00021 b= 3.99939\n",
      "Epoch: 0250 cost= 0.000000029 W= 1.0002 b= 3.99941\n",
      "Epoch: 0300 cost= 0.000000027 W= 1.00019 b= 3.99944\n",
      "Epoch: 0350 cost= 0.000000024 W= 1.00018 b= 3.99946\n",
      "Epoch: 0400 cost= 0.000000022 W= 1.00018 b= 3.99948\n",
      "Optimization Finished!\n",
      "Training cost= 2.23288e-08 W= 1.00018 b= 3.99948 \n",
      "\n"
     ]
    },
    {
     "data": {
      "image/png": "[encoded data removed]",
      "text/plain": [
       "<matplotlib.figure.Figure at 0x7fb3405ecba8>"
      ]
     },
     "metadata": {},
     "output_type": "display_data"
    },
    {
     "name": "stdout",
     "output_type": "stream",
     "text": [
      "[0.11598709, 0.0052427473, 5.0384555e-05, 1.0294298e-07, 8.5654875e-08, 6.3810973e-08, 4.1785739e-08, 2.2328777e-08]\n"
     ]
    }
   ],
   "source": [
    "import tensorflow as tf\n",
    "import numpy\n",
    "import matplotlib.pyplot as plt\n",
    "rng = numpy.random\n",
    "\n",
    "rate_list=[0.05,0.005]\n",
    "epoch_list=[100,200,300,400]\n",
    "j=[]\n",
    "learning_rate = 0.005\n",
    "#training_epochs = 1000\n",
    "display_step = 50\n",
    "\n",
    "train_X = numpy.asarray([1.,2.,3.,4.])\n",
    "train_Y = numpy.asarray([5.,6.,7.,8.])\n",
    "n_samples = train_X.shape[0]\n",
    "\n",
    "X = tf.placeholder(\"float\")\n",
    "Y = tf.placeholder(\"float\")\n",
    "\n",
    "W = tf.Variable(rng.randn(), name=\"weight\")\n",
    "b = tf.Variable(rng.randn(), name=\"bias\")\n",
    "\n",
    "pred = tf.add(tf.multiply(X, W), b)\n",
    "\n",
    "cost = tf.reduce_sum(tf.pow(pred-Y, 2))/(2*n_samples)\n",
    "\n",
    "#optimizer = tf.train.GradientDescentOptimizer(learning_rate).minimize(cost)\n",
    "\n",
    "init = tf.global_variables_initializer()\n",
    "\n",
    "with tf.Session() as sess:\n",
    "    sess.run(init)\n",
    "    for rate in rate_list:\n",
    "        optimizer = tf.train.GradientDescentOptimizer(rate).minimize(cost)\n",
    "        for training_epochs in epoch_list:\n",
    "            #optimizer = tf.train.GradientDescentOptimizer(rate).minimize(cost)\n",
    "            for epoch in range(training_epochs):\n",
    "                for (x, y) in zip(train_X, train_Y):\n",
    "                    sess.run(optimizer, feed_dict={X: x, Y: y})\n",
    "                if (epoch+1) % display_step == 0:\n",
    "                    c = sess.run(cost, feed_dict={X: train_X, Y:train_Y})\n",
    "                    print(\"Epoch:\", '%04d' % (epoch+1), \"cost=\", \"{:.9f}\".format(c), \"W=\", sess.run(W), \"b=\", sess.run(b))\n",
    "            print(\"Optimization Finished!\")\n",
    "            training_cost = sess.run(cost, feed_dict={X: train_X, Y: train_Y})\n",
    "            print(\"Training cost=\", training_cost, \"W=\", sess.run(W), \"b=\", sess.run(b), '\\n')\n",
    "            j.append(training_cost)\n",
    "        plt.plot(train_X, train_Y, 'ro', label='Original data')\n",
    "        plt.plot(train_X, sess.run(W) * train_X + sess.run(b), label='Fitted line')\n",
    "        plt.legend()\n",
    "        plt.show()\n",
    "    \n",
    "print(j)\n",
    "\n"
   ]
  },
  {
   "cell_type": "code",
   "execution_count": null,
   "metadata": {
    "collapsed": true,
    "slideshow": {
     "slide_type": "skip"
    }
   },
   "outputs": [],
   "source": []
  },
  {
   "cell_type": "markdown",
   "metadata": {
    "slideshow": {
     "slide_type": "slide"
    }
   },
   "source": []
  },
  {
   "cell_type": "code",
   "execution_count": 4,
   "metadata": {
    "collapsed": true
   },
   "outputs": [],
   "source": []
  },
  {
   "cell_type": "code",
   "execution_count": null,
   "metadata": {
    "collapsed": true
   },
   "outputs": [],
   "source": []
  },
  {
   "cell_type": "code",
   "execution_count": null,
   "metadata": {
    "collapsed": true
   },
   "outputs": [],
   "source": []
  }
 ],
 "metadata": {
  "celltoolbar": "Slideshow",
  "kernelspec": {
   "display_name": "Python 3",
   "language": "python",
   "name": "python3"
  },
  "language_info": {
   "codemirror_mode": {
    "name": "ipython",
    "version": 3
   },
   "file_extension": ".py",
   "mimetype": "text/x-python",
   "name": "python",
   "nbconvert_exporter": "python",
   "pygments_lexer": "ipython3",
   "version": "3.6.1"
  }
 },
 "nbformat": 4,
 "nbformat_minor": 2
}
