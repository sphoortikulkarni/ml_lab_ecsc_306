{
 "cells": [
  {
   "cell_type": "markdown",
   "metadata": {
    "slideshow": {
     "slide_type": "slide"
    }
   },
   "source": [
    "## Assignment for Lab1\n",
    "\n",
    "\n",
    "\n",
    "### Write the program to generate tensorboard graph for below equations. \n",
    "##### The code and images should be uploaded to your own repository\n",
    "\n"
   ]
  },
  {
   "cell_type": "code",
   "execution_count": null,
   "metadata": {
    "collapsed": true
   },
   "outputs": [],
   "source": []
  },
  {
   "cell_type": "markdown",
   "metadata": {
    "slideshow": {
     "slide_type": "slide"
    }
   },
   "source": [
    "## Slot : A1\n",
    "\n",
    "1. $$ (a+b)^2 = a^2 + b^2 + 2ab $$\n",
    "2. $$ (a+b+c)^2 = a^2 + b^2 + 2ab +2bc + 2ca $$\n",
    "\n",
    "\n",
    "## Slot : A2\n",
    "\n",
    "1. $$ (a-b)^2 = a^2 + b^2 - 2ab $$\n",
    "2. $$ (a^3+ b^3) = (a+b)(a^2 -ab + b^2) $$\n",
    "\n",
    "\n",
    "\n",
    "## Slot : B1\n",
    "\n",
    "1. $$ (a+b)^2 = a^2 + b^2 + 2ab $$\n",
    "2. $$ (a^3 - b^3) = (a- b)(a^2 + ab + b^2) $$\n",
    "\n",
    "## Slot : B2\n",
    "\n",
    "1. $$ (a-b)^2 = a^2 + b^2 - 2ab $$\n",
    "2. $$ (a-b-c)^2 = a^2 + b^2  + c^2 -2ab -2ca + 2bc $$\n",
    "\n",
    "\n",
    "## Slot : C1\n",
    "\n",
    "1. $$ (a+b)^2 = a^2 + b^2 + 2ab $$\n",
    "2. $$ (a-b+c) ^2 =  a^2 +b^2 + c^2 -2xy -2yz + 2xz$$\n",
    "\n",
    "\n",
    "\n",
    "## Slot : C2\n",
    "\n",
    "1. $$ (a-b)^2 = a^2 + b^2 - 2ab $$\n",
    "2. $$ (a+b)^3 = a^3 + b^3 + 3ab(a+b) $$\n",
    "\n",
    "## Slot D1\n",
    "1. $$ (a+b)^2 = a^2 + b^2 + 2ab $$\n",
    "2. $$ (a-b)^3 = a^3 - b^3 + 3ab(a-b) $$\n",
    "\n",
    "## Slot D2\n",
    "1. $$ (a-b)^2 = a^2 + b^2 - 2ab $$\n",
    "2. $$ (a + b-c) ^2 = a^2 + b^2 + c^2 + 2xy -2yz -2xz $$\n"
   ]
  },
  {
   "cell_type": "code",
   "execution_count": 3,
   "metadata": {},
   "outputs": [
    {
     "name": "stdout",
     "output_type": "stream",
     "text": [
      "9\n"
     ]
    }
   ],
   "source": [
    "import tensorflow as tf\n",
    "with tf.name_scope(\"SquareAndAddition\"):\n",
    "    with tf.name_scope(\"Scope_A\"):\n",
    "        a=1\n",
    "        b=2\n",
    "        c = tf.pow(a, 2, name=\"square_of_a\")\n",
    "        d = tf.pow(b, 2, name=\"square_of_b\")\n",
    "        e = tf.add(c, d,name=\"addition_of_a_square_and_b_square\")\n",
    "    with tf.name_scope(\"Scope_B\"):\n",
    "        f = tf.multiply(tf.multiply(2,a),b, name=\"2ab\")\n",
    "       \n",
    "    \n",
    "    g = tf.add(e, f,name=\"Final\")\n",
    "    \n",
    "\n",
    "\n",
    "with tf.Session() as sess:\n",
    "    writer = tf.summary.FileWriter(\"/tmp/tboard/a\", sess.graph)\n",
    "    print(sess.run(g))\n",
    "    writer.close()\n"
   ]
  },
  {
   "cell_type": "code",
   "execution_count": 4,
   "metadata": {},
   "outputs": [
    {
     "name": "stdout",
     "output_type": "stream",
     "text": [
      "8\n"
     ]
    }
   ],
   "source": [
    "import tensorflow as tf\n",
    "with tf.name_scope(\"CubeAndAddition\"):\n",
    "    with tf.name_scope(\"Scope_A\"):\n",
    "        a=4\n",
    "        b=2\n",
    "        c = tf.pow(a, 3, name=\"cube_of_a\")\n",
    "        d = tf.pow(b, 3, name=\"cube_of_b\")\n",
    "        e = tf.subtract(c, d,name=\"subtract_of_a_cube_and_b_cube\")\n",
    "    with tf.name_scope(\"Scope_B\"):\n",
    "        f = tf.multiply(tf.multiply(3,a),b, name=\"3ab\")\n",
    "        g = tf.multiply(f,tf.subtract(a,b), name=\"3ab_multiply_by_a_minus_b\")\n",
    "       \n",
    "    \n",
    "    h = tf.subtract(e, g,name=\"Final\")\n",
    "    \n",
    "\n",
    "\n",
    "with tf.Session() as sess:\n",
    "    writer = tf.summary.FileWriter(\"/tmp/tboard/b1\", sess.graph)\n",
    "    print(sess.run(h))\n",
    "    writer.close()"
   ]
  },
  {
   "cell_type": "code",
   "execution_count": null,
   "metadata": {
    "collapsed": true
   },
   "outputs": [],
   "source": []
  }
 ],
 "metadata": {
  "celltoolbar": "Slideshow",
  "kernelspec": {
   "display_name": "Python 3",
   "language": "python",
   "name": "python3"
  },
  "language_info": {
   "codemirror_mode": {
    "name": "ipython",
    "version": 3
   },
   "file_extension": ".py",
   "mimetype": "text/x-python",
   "name": "python",
   "nbconvert_exporter": "python",
   "pygments_lexer": "ipython3",
   "version": "3.6.1"
  }
 },
 "nbformat": 4,
 "nbformat_minor": 2
}
